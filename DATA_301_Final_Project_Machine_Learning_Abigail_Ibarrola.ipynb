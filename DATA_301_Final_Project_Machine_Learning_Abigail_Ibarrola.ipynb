{
  "nbformat": 4,
  "nbformat_minor": 0,
  "metadata": {
    "colab": {
      "name": "DATA 301 - Final Project: Machine Learning - Abigail Ibarrola.ipynb",
      "provenance": [],
      "authorship_tag": "ABX9TyPq+UbnkrtQpVJpdmW4769Q",
      "include_colab_link": true
    },
    "kernelspec": {
      "name": "python3",
      "display_name": "Python 3"
    }
  },
  "cells": [
    {
      "cell_type": "markdown",
      "metadata": {
        "id": "view-in-github",
        "colab_type": "text"
      },
      "source": [
        "<a href=\"https://colab.research.google.com/github/abigailibarrola/data301-figure-skating/blob/master/DATA_301_Final_Project_Machine_Learning_Abigail_Ibarrola.ipynb\" target=\"_parent\"><img src=\"https://colab.research.google.com/assets/colab-badge.svg\" alt=\"Open In Colab\"/></a>"
      ]
    },
    {
      "cell_type": "markdown",
      "metadata": {
        "id": "IaHCenjXGSFa",
        "colab_type": "text"
      },
      "source": [
        "# Machine Learning: Predicting Individual Judge Scores of Skaters in the Singles Disciplines\n",
        "\n",
        "The goal of the machine learning portion of this project is to predict an individual judge's score for a skater's competition. Since score is a quantitative value, I will be using regression models to predict scores.\n",
        "\n",
        "In the data collection portion of this project, I reorganized the main skater data so that a single observation contains one judge's data (instead of all nine in the original). This is what will be used to train and test models.\n",
        "\n",
        "As explained earlier, I will be only using data whose judge scores are associated with their identity."
      ]
    },
    {
      "cell_type": "code",
      "metadata": {
        "id": "0K5BswHpACSY",
        "colab_type": "code",
        "colab": {}
      },
      "source": [
        "import pandas as pd\n",
        "import numpy as np\n",
        "import matplotlib.pyplot as plt\n",
        "from sklearn.model_selection import cross_val_score, GridSearchCV\n",
        "from sklearn.linear_model import LinearRegression\n",
        "from sklearn.neighbors import KNeighborsRegressor\n",
        "from sklearn.ensemble import RandomForestRegressor, VotingRegressor, StackingRegressor\n",
        "from sklearn.compose import make_column_transformer\n",
        "from sklearn.preprocessing import OneHotEncoder, Normalizer, StandardScaler, MaxAbsScaler, MinMaxScaler\n",
        "from sklearn.pipeline import make_pipeline\n",
        "from sklearn.metrics import mean_squared_error\n",
        "from itertools import combinations\n",
        "from google.colab import drive"
      ],
      "execution_count": 0,
      "outputs": []
    },
    {
      "cell_type": "code",
      "metadata": {
        "id": "M4d9u668HGx6",
        "colab_type": "code",
        "outputId": "6725f88b-82b6-42a0-f6a8-5a6cd75d0c5f",
        "colab": {
          "base_uri": "https://localhost:8080/",
          "height": 436
        }
      },
      "source": [
        "# Read in dataset\n",
        "drive.mount('/content/gdrive')\n",
        "data_dir = \"/content/gdrive/My Drive/DATA 301/\"\n",
        "\n",
        "df_skaters_ml = pd.read_csv(data_dir + \"skaters_data_ml.csv\")\n",
        "df_skaters_ml"
      ],
      "execution_count": 26,
      "outputs": [
        {
          "output_type": "stream",
          "text": [
            "Drive already mounted at /content/gdrive; to attempt to forcibly remount, call drive.mount(\"/content/gdrive\", force_remount=True).\n"
          ],
          "name": "stdout"
        },
        {
          "output_type": "execute_result",
          "data": {
            "text/html": [
              "<div>\n",
              "<style scoped>\n",
              "    .dataframe tbody tr th:only-of-type {\n",
              "        vertical-align: middle;\n",
              "    }\n",
              "\n",
              "    .dataframe tbody tr th {\n",
              "        vertical-align: top;\n",
              "    }\n",
              "\n",
              "    .dataframe thead th {\n",
              "        text-align: right;\n",
              "    }\n",
              "</style>\n",
              "<table border=\"1\" class=\"dataframe\">\n",
              "  <thead>\n",
              "    <tr style=\"text-align: right;\">\n",
              "      <th></th>\n",
              "      <th>comp_id</th>\n",
              "      <th>skater_fullname</th>\n",
              "      <th>skater_nat</th>\n",
              "      <th>gender</th>\n",
              "      <th>bv</th>\n",
              "      <th>num_quads</th>\n",
              "      <th>num_triples</th>\n",
              "      <th>num_doubles</th>\n",
              "      <th>num_jump_errors</th>\n",
              "      <th>num_spin_errors</th>\n",
              "      <th>judge_nat</th>\n",
              "      <th>judge_tes</th>\n",
              "      <th>judge_pcs</th>\n",
              "      <th>judge_total</th>\n",
              "    </tr>\n",
              "  </thead>\n",
              "  <tbody>\n",
              "    <tr>\n",
              "      <th>0</th>\n",
              "      <td>WC_1617</td>\n",
              "      <td>Evgenia MEDVEDEVA</td>\n",
              "      <td>RUS</td>\n",
              "      <td>F</td>\n",
              "      <td>33.10</td>\n",
              "      <td>0</td>\n",
              "      <td>3</td>\n",
              "      <td>1</td>\n",
              "      <td>0</td>\n",
              "      <td>0</td>\n",
              "      <td>FRA</td>\n",
              "      <td>40.30</td>\n",
              "      <td>37.0</td>\n",
              "      <td>77.30</td>\n",
              "    </tr>\n",
              "    <tr>\n",
              "      <th>1</th>\n",
              "      <td>WC_1617</td>\n",
              "      <td>Kaetlyn OSMOND</td>\n",
              "      <td>CAN</td>\n",
              "      <td>F</td>\n",
              "      <td>32.53</td>\n",
              "      <td>0</td>\n",
              "      <td>3</td>\n",
              "      <td>1</td>\n",
              "      <td>0</td>\n",
              "      <td>0</td>\n",
              "      <td>FRA</td>\n",
              "      <td>39.53</td>\n",
              "      <td>32.8</td>\n",
              "      <td>72.33</td>\n",
              "    </tr>\n",
              "    <tr>\n",
              "      <th>2</th>\n",
              "      <td>WC_1617</td>\n",
              "      <td>Gabrielle DALEMAN</td>\n",
              "      <td>CAN</td>\n",
              "      <td>F</td>\n",
              "      <td>31.83</td>\n",
              "      <td>0</td>\n",
              "      <td>3</td>\n",
              "      <td>1</td>\n",
              "      <td>0</td>\n",
              "      <td>0</td>\n",
              "      <td>FRA</td>\n",
              "      <td>38.33</td>\n",
              "      <td>32.2</td>\n",
              "      <td>70.53</td>\n",
              "    </tr>\n",
              "    <tr>\n",
              "      <th>3</th>\n",
              "      <td>WC_1617</td>\n",
              "      <td>Anna POGORILAYA</td>\n",
              "      <td>RUS</td>\n",
              "      <td>F</td>\n",
              "      <td>32.84</td>\n",
              "      <td>0</td>\n",
              "      <td>3</td>\n",
              "      <td>1</td>\n",
              "      <td>0</td>\n",
              "      <td>0</td>\n",
              "      <td>FRA</td>\n",
              "      <td>36.24</td>\n",
              "      <td>33.8</td>\n",
              "      <td>70.04</td>\n",
              "    </tr>\n",
              "    <tr>\n",
              "      <th>4</th>\n",
              "      <td>WC_1617</td>\n",
              "      <td>Karen CHEN</td>\n",
              "      <td>USA</td>\n",
              "      <td>F</td>\n",
              "      <td>32.24</td>\n",
              "      <td>0</td>\n",
              "      <td>3</td>\n",
              "      <td>1</td>\n",
              "      <td>0</td>\n",
              "      <td>0</td>\n",
              "      <td>FRA</td>\n",
              "      <td>38.84</td>\n",
              "      <td>30.4</td>\n",
              "      <td>69.24</td>\n",
              "    </tr>\n",
              "    <tr>\n",
              "      <th>...</th>\n",
              "      <td>...</td>\n",
              "      <td>...</td>\n",
              "      <td>...</td>\n",
              "      <td>...</td>\n",
              "      <td>...</td>\n",
              "      <td>...</td>\n",
              "      <td>...</td>\n",
              "      <td>...</td>\n",
              "      <td>...</td>\n",
              "      <td>...</td>\n",
              "      <td>...</td>\n",
              "      <td>...</td>\n",
              "      <td>...</td>\n",
              "      <td>...</td>\n",
              "    </tr>\n",
              "    <tr>\n",
              "      <th>22696</th>\n",
              "      <td>GPCAN_1920</td>\n",
              "      <td>Roman SADOVSKY</td>\n",
              "      <td>CAN</td>\n",
              "      <td>M</td>\n",
              "      <td>69.47</td>\n",
              "      <td>2</td>\n",
              "      <td>6</td>\n",
              "      <td>0</td>\n",
              "      <td>4</td>\n",
              "      <td>0</td>\n",
              "      <td>LAT</td>\n",
              "      <td>64.90</td>\n",
              "      <td>78.5</td>\n",
              "      <td>143.40</td>\n",
              "    </tr>\n",
              "    <tr>\n",
              "      <th>22697</th>\n",
              "      <td>GPCAN_1920</td>\n",
              "      <td>Brendan KERRY</td>\n",
              "      <td>AUS</td>\n",
              "      <td>M</td>\n",
              "      <td>63.95</td>\n",
              "      <td>1</td>\n",
              "      <td>5</td>\n",
              "      <td>3</td>\n",
              "      <td>0</td>\n",
              "      <td>0</td>\n",
              "      <td>LAT</td>\n",
              "      <td>68.57</td>\n",
              "      <td>71.5</td>\n",
              "      <td>140.07</td>\n",
              "    </tr>\n",
              "    <tr>\n",
              "      <th>22698</th>\n",
              "      <td>GPCAN_1920</td>\n",
              "      <td>Julian Zhi Jie YEE</td>\n",
              "      <td>MAS</td>\n",
              "      <td>M</td>\n",
              "      <td>57.63</td>\n",
              "      <td>0</td>\n",
              "      <td>6</td>\n",
              "      <td>4</td>\n",
              "      <td>1</td>\n",
              "      <td>0</td>\n",
              "      <td>LAT</td>\n",
              "      <td>61.20</td>\n",
              "      <td>72.0</td>\n",
              "      <td>133.20</td>\n",
              "    </tr>\n",
              "    <tr>\n",
              "      <th>22699</th>\n",
              "      <td>GPCAN_1920</td>\n",
              "      <td>Paul FENTZ</td>\n",
              "      <td>GER</td>\n",
              "      <td>M</td>\n",
              "      <td>62.05</td>\n",
              "      <td>0</td>\n",
              "      <td>7</td>\n",
              "      <td>3</td>\n",
              "      <td>1</td>\n",
              "      <td>0</td>\n",
              "      <td>LAT</td>\n",
              "      <td>63.05</td>\n",
              "      <td>72.0</td>\n",
              "      <td>135.05</td>\n",
              "    </tr>\n",
              "    <tr>\n",
              "      <th>22700</th>\n",
              "      <td>GPCAN_1920</td>\n",
              "      <td>Andrei LAZUKIN</td>\n",
              "      <td>RUS</td>\n",
              "      <td>M</td>\n",
              "      <td>53.41</td>\n",
              "      <td>1</td>\n",
              "      <td>4</td>\n",
              "      <td>4</td>\n",
              "      <td>1</td>\n",
              "      <td>0</td>\n",
              "      <td>LAT</td>\n",
              "      <td>57.12</td>\n",
              "      <td>77.0</td>\n",
              "      <td>134.12</td>\n",
              "    </tr>\n",
              "  </tbody>\n",
              "</table>\n",
              "<p>22701 rows × 14 columns</p>\n",
              "</div>"
            ],
            "text/plain": [
              "          comp_id     skater_fullname  ... judge_pcs judge_total\n",
              "0         WC_1617   Evgenia MEDVEDEVA  ...      37.0       77.30\n",
              "1         WC_1617      Kaetlyn OSMOND  ...      32.8       72.33\n",
              "2         WC_1617   Gabrielle DALEMAN  ...      32.2       70.53\n",
              "3         WC_1617     Anna POGORILAYA  ...      33.8       70.04\n",
              "4         WC_1617          Karen CHEN  ...      30.4       69.24\n",
              "...           ...                 ...  ...       ...         ...\n",
              "22696  GPCAN_1920      Roman SADOVSKY  ...      78.5      143.40\n",
              "22697  GPCAN_1920       Brendan KERRY  ...      71.5      140.07\n",
              "22698  GPCAN_1920  Julian Zhi Jie YEE  ...      72.0      133.20\n",
              "22699  GPCAN_1920          Paul FENTZ  ...      72.0      135.05\n",
              "22700  GPCAN_1920      Andrei LAZUKIN  ...      77.0      134.12\n",
              "\n",
              "[22701 rows x 14 columns]"
            ]
          },
          "metadata": {
            "tags": []
          },
          "execution_count": 26
        }
      ]
    },
    {
      "cell_type": "markdown",
      "metadata": {
        "id": "7eS6kwKkpfEV",
        "colab_type": "text"
      },
      "source": [
        "## Pulling out test data\n",
        "\n",
        "My original plan was to predict scores for the top 10 skaters for the Men and Ladies disciplines for the ISU World Figure Skating Championships, originally planned to begin on March 16, 2020. But due to the COVID-19 pandemic of this time, this event was cancelled.\n",
        "\n",
        "To compensate, I pulled out a portion of my current machine learning data to be used as test data. I chose 10 male and female skaters who are relatively ranked highly in the current worlds standings, who represent countries with solid histories in figure skating, and have had a recent international competition during the 2019-2020 season. I pulled out each skater's most recent competition data."
      ]
    },
    {
      "cell_type": "code",
      "metadata": {
        "id": "u1VW-kbnWEe1",
        "colab_type": "code",
        "outputId": "9906de92-894a-423b-8191-8d0c19d6323f",
        "colab": {
          "base_uri": "https://localhost:8080/",
          "height": 419
        }
      },
      "source": [
        "# Segment out test data\n",
        "test_skaters = [\n",
        "    [\"Nathan CHEN\", \"GPF_1920\"],\n",
        "    [\"Yuzuru HANYU\", \"4CC_1920\"],\n",
        "    [\"Shoma UNO\", \"GPRUS_1920\"],\n",
        "    [\"Dmitri ALIEV\", \"EC_1920\"],\n",
        "    [\"Keegan MESSING\", \"4CC_1920\"],\n",
        "    [\"Jason BROWN\", \"4CC_1920\"],\n",
        "    [\"Alexander SAMARIN\", \"EC_1920\"],\n",
        "    [\"Matteo RIZZO\", \"EC_1920\"],\n",
        "    [\"Boyang JIN\", \"4CC_1920\"],\n",
        "    [\"Junhwan CHA\", \"4CC_1920\"],\n",
        "    [\"Rika KIHIRA\", \"4CC_1920\"],\n",
        "    [\"Alina ZAGITOVA\", \"GPF_1920\"],\n",
        "    [\"Satoko MIYAHARA\", \"GPRUS_1920\"],\n",
        "    [\"Bradie TENNEL\", \"4CC_1920\"],\n",
        "    [\"Evgenia MEDVEDEVA\", \"GPRUS_1920\"],\n",
        "    [\"Kaori SAKAMOTO\", \"4CC_1920\"],\n",
        "    [\"Alena KOSTORNAIA\", \"EC_1920\"],\n",
        "    [\"Mariah BELL\", \"GPRUS_1920\"],\n",
        "    [\"Young YOU\", \"4CC_1920\"],\n",
        "    [\"Eunsoo LIM\", \"4CC_1920\"]\n",
        "]\n",
        "\n",
        "test_skaters_data = []\n",
        "\n",
        "for skater in test_skaters:\n",
        "  mask = ((df_skaters_ml[\"skater_fullname\"] == skater[0]) &\n",
        "         (df_skaters_ml[\"comp_id\"] == skater[1]))\n",
        "  skater_data = df_skaters_ml.loc[mask].copy()\n",
        "  df_skaters_ml = df_skaters_ml[~mask]\n",
        "  test_skaters_data.append(skater_data)\n",
        "\n",
        "df_skaters_test = pd.concat(test_skaters_data)\n",
        "df_skaters_test.reset_index(drop=True, inplace=True)\n",
        "df_skaters_test"
      ],
      "execution_count": 3,
      "outputs": [
        {
          "output_type": "execute_result",
          "data": {
            "text/html": [
              "<div>\n",
              "<style scoped>\n",
              "    .dataframe tbody tr th:only-of-type {\n",
              "        vertical-align: middle;\n",
              "    }\n",
              "\n",
              "    .dataframe tbody tr th {\n",
              "        vertical-align: top;\n",
              "    }\n",
              "\n",
              "    .dataframe thead th {\n",
              "        text-align: right;\n",
              "    }\n",
              "</style>\n",
              "<table border=\"1\" class=\"dataframe\">\n",
              "  <thead>\n",
              "    <tr style=\"text-align: right;\">\n",
              "      <th></th>\n",
              "      <th>comp_id</th>\n",
              "      <th>skater_fullname</th>\n",
              "      <th>skater_nat</th>\n",
              "      <th>gender</th>\n",
              "      <th>bv</th>\n",
              "      <th>num_quads</th>\n",
              "      <th>num_triples</th>\n",
              "      <th>num_doubles</th>\n",
              "      <th>num_jump_errors</th>\n",
              "      <th>num_spin_errors</th>\n",
              "      <th>judge_nat</th>\n",
              "      <th>judge_tes</th>\n",
              "      <th>judge_pcs</th>\n",
              "      <th>judge_total</th>\n",
              "    </tr>\n",
              "  </thead>\n",
              "  <tbody>\n",
              "    <tr>\n",
              "      <th>0</th>\n",
              "      <td>GPF_1920</td>\n",
              "      <td>Nathan CHEN</td>\n",
              "      <td>USA</td>\n",
              "      <td>M</td>\n",
              "      <td>48.17</td>\n",
              "      <td>2</td>\n",
              "      <td>2</td>\n",
              "      <td>0</td>\n",
              "      <td>0</td>\n",
              "      <td>0</td>\n",
              "      <td>FRA</td>\n",
              "      <td>64.03</td>\n",
              "      <td>47.25</td>\n",
              "      <td>111.28</td>\n",
              "    </tr>\n",
              "    <tr>\n",
              "      <th>1</th>\n",
              "      <td>GPF_1920</td>\n",
              "      <td>Nathan CHEN</td>\n",
              "      <td>USA</td>\n",
              "      <td>M</td>\n",
              "      <td>97.73</td>\n",
              "      <td>5</td>\n",
              "      <td>5</td>\n",
              "      <td>0</td>\n",
              "      <td>0</td>\n",
              "      <td>0</td>\n",
              "      <td>FRA</td>\n",
              "      <td>131.02</td>\n",
              "      <td>96.00</td>\n",
              "      <td>227.02</td>\n",
              "    </tr>\n",
              "    <tr>\n",
              "      <th>2</th>\n",
              "      <td>GPF_1920</td>\n",
              "      <td>Nathan CHEN</td>\n",
              "      <td>USA</td>\n",
              "      <td>M</td>\n",
              "      <td>48.17</td>\n",
              "      <td>2</td>\n",
              "      <td>2</td>\n",
              "      <td>0</td>\n",
              "      <td>0</td>\n",
              "      <td>0</td>\n",
              "      <td>CHN</td>\n",
              "      <td>62.84</td>\n",
              "      <td>47.25</td>\n",
              "      <td>110.09</td>\n",
              "    </tr>\n",
              "    <tr>\n",
              "      <th>3</th>\n",
              "      <td>GPF_1920</td>\n",
              "      <td>Nathan CHEN</td>\n",
              "      <td>USA</td>\n",
              "      <td>M</td>\n",
              "      <td>97.73</td>\n",
              "      <td>5</td>\n",
              "      <td>5</td>\n",
              "      <td>0</td>\n",
              "      <td>0</td>\n",
              "      <td>0</td>\n",
              "      <td>CHN</td>\n",
              "      <td>134.22</td>\n",
              "      <td>96.50</td>\n",
              "      <td>230.72</td>\n",
              "    </tr>\n",
              "    <tr>\n",
              "      <th>4</th>\n",
              "      <td>GPF_1920</td>\n",
              "      <td>Nathan CHEN</td>\n",
              "      <td>USA</td>\n",
              "      <td>M</td>\n",
              "      <td>48.17</td>\n",
              "      <td>2</td>\n",
              "      <td>2</td>\n",
              "      <td>0</td>\n",
              "      <td>0</td>\n",
              "      <td>0</td>\n",
              "      <td>AUT</td>\n",
              "      <td>59.79</td>\n",
              "      <td>46.50</td>\n",
              "      <td>106.29</td>\n",
              "    </tr>\n",
              "    <tr>\n",
              "      <th>...</th>\n",
              "      <td>...</td>\n",
              "      <td>...</td>\n",
              "      <td>...</td>\n",
              "      <td>...</td>\n",
              "      <td>...</td>\n",
              "      <td>...</td>\n",
              "      <td>...</td>\n",
              "      <td>...</td>\n",
              "      <td>...</td>\n",
              "      <td>...</td>\n",
              "      <td>...</td>\n",
              "      <td>...</td>\n",
              "      <td>...</td>\n",
              "      <td>...</td>\n",
              "    </tr>\n",
              "    <tr>\n",
              "      <th>329</th>\n",
              "      <td>4CC_1920</td>\n",
              "      <td>Eunsoo LIM</td>\n",
              "      <td>KOR</td>\n",
              "      <td>F</td>\n",
              "      <td>56.36</td>\n",
              "      <td>0</td>\n",
              "      <td>6</td>\n",
              "      <td>5</td>\n",
              "      <td>1</td>\n",
              "      <td>0</td>\n",
              "      <td>MEX</td>\n",
              "      <td>66.93</td>\n",
              "      <td>67.20</td>\n",
              "      <td>134.13</td>\n",
              "    </tr>\n",
              "    <tr>\n",
              "      <th>330</th>\n",
              "      <td>4CC_1920</td>\n",
              "      <td>Eunsoo LIM</td>\n",
              "      <td>KOR</td>\n",
              "      <td>F</td>\n",
              "      <td>28.83</td>\n",
              "      <td>0</td>\n",
              "      <td>2</td>\n",
              "      <td>2</td>\n",
              "      <td>0</td>\n",
              "      <td>0</td>\n",
              "      <td>CHN</td>\n",
              "      <td>33.95</td>\n",
              "      <td>32.00</td>\n",
              "      <td>65.95</td>\n",
              "    </tr>\n",
              "    <tr>\n",
              "      <th>331</th>\n",
              "      <td>4CC_1920</td>\n",
              "      <td>Eunsoo LIM</td>\n",
              "      <td>KOR</td>\n",
              "      <td>F</td>\n",
              "      <td>56.36</td>\n",
              "      <td>0</td>\n",
              "      <td>6</td>\n",
              "      <td>5</td>\n",
              "      <td>1</td>\n",
              "      <td>0</td>\n",
              "      <td>JPN</td>\n",
              "      <td>65.27</td>\n",
              "      <td>66.40</td>\n",
              "      <td>131.67</td>\n",
              "    </tr>\n",
              "    <tr>\n",
              "      <th>332</th>\n",
              "      <td>4CC_1920</td>\n",
              "      <td>Eunsoo LIM</td>\n",
              "      <td>KOR</td>\n",
              "      <td>F</td>\n",
              "      <td>28.83</td>\n",
              "      <td>0</td>\n",
              "      <td>2</td>\n",
              "      <td>2</td>\n",
              "      <td>0</td>\n",
              "      <td>0</td>\n",
              "      <td>KAZ</td>\n",
              "      <td>36.87</td>\n",
              "      <td>33.00</td>\n",
              "      <td>69.87</td>\n",
              "    </tr>\n",
              "    <tr>\n",
              "      <th>333</th>\n",
              "      <td>4CC_1920</td>\n",
              "      <td>Eunsoo LIM</td>\n",
              "      <td>KOR</td>\n",
              "      <td>F</td>\n",
              "      <td>56.36</td>\n",
              "      <td>0</td>\n",
              "      <td>6</td>\n",
              "      <td>5</td>\n",
              "      <td>1</td>\n",
              "      <td>0</td>\n",
              "      <td>KAZ</td>\n",
              "      <td>66.90</td>\n",
              "      <td>66.80</td>\n",
              "      <td>133.70</td>\n",
              "    </tr>\n",
              "  </tbody>\n",
              "</table>\n",
              "<p>334 rows × 14 columns</p>\n",
              "</div>"
            ],
            "text/plain": [
              "      comp_id skater_fullname skater_nat  ... judge_tes  judge_pcs  judge_total\n",
              "0    GPF_1920     Nathan CHEN        USA  ...     64.03      47.25       111.28\n",
              "1    GPF_1920     Nathan CHEN        USA  ...    131.02      96.00       227.02\n",
              "2    GPF_1920     Nathan CHEN        USA  ...     62.84      47.25       110.09\n",
              "3    GPF_1920     Nathan CHEN        USA  ...    134.22      96.50       230.72\n",
              "4    GPF_1920     Nathan CHEN        USA  ...     59.79      46.50       106.29\n",
              "..        ...             ...        ...  ...       ...        ...          ...\n",
              "329  4CC_1920      Eunsoo LIM        KOR  ...     66.93      67.20       134.13\n",
              "330  4CC_1920      Eunsoo LIM        KOR  ...     33.95      32.00        65.95\n",
              "331  4CC_1920      Eunsoo LIM        KOR  ...     65.27      66.40       131.67\n",
              "332  4CC_1920      Eunsoo LIM        KOR  ...     36.87      33.00        69.87\n",
              "333  4CC_1920      Eunsoo LIM        KOR  ...     66.90      66.80       133.70\n",
              "\n",
              "[334 rows x 14 columns]"
            ]
          },
          "metadata": {
            "tags": []
          },
          "execution_count": 3
        }
      ]
    },
    {
      "cell_type": "code",
      "metadata": {
        "id": "Ypth32WhpF3V",
        "colab_type": "code",
        "outputId": "910ab893-cc45-4b47-985a-91f306917da2",
        "colab": {
          "base_uri": "https://localhost:8080/",
          "height": 419
        }
      },
      "source": [
        "df_skaters_ml"
      ],
      "execution_count": 4,
      "outputs": [
        {
          "output_type": "execute_result",
          "data": {
            "text/html": [
              "<div>\n",
              "<style scoped>\n",
              "    .dataframe tbody tr th:only-of-type {\n",
              "        vertical-align: middle;\n",
              "    }\n",
              "\n",
              "    .dataframe tbody tr th {\n",
              "        vertical-align: top;\n",
              "    }\n",
              "\n",
              "    .dataframe thead th {\n",
              "        text-align: right;\n",
              "    }\n",
              "</style>\n",
              "<table border=\"1\" class=\"dataframe\">\n",
              "  <thead>\n",
              "    <tr style=\"text-align: right;\">\n",
              "      <th></th>\n",
              "      <th>comp_id</th>\n",
              "      <th>skater_fullname</th>\n",
              "      <th>skater_nat</th>\n",
              "      <th>gender</th>\n",
              "      <th>bv</th>\n",
              "      <th>num_quads</th>\n",
              "      <th>num_triples</th>\n",
              "      <th>num_doubles</th>\n",
              "      <th>num_jump_errors</th>\n",
              "      <th>num_spin_errors</th>\n",
              "      <th>judge_nat</th>\n",
              "      <th>judge_tes</th>\n",
              "      <th>judge_pcs</th>\n",
              "      <th>judge_total</th>\n",
              "    </tr>\n",
              "  </thead>\n",
              "  <tbody>\n",
              "    <tr>\n",
              "      <th>0</th>\n",
              "      <td>WC_1617</td>\n",
              "      <td>Evgenia MEDVEDEVA</td>\n",
              "      <td>RUS</td>\n",
              "      <td>F</td>\n",
              "      <td>33.10</td>\n",
              "      <td>0</td>\n",
              "      <td>3</td>\n",
              "      <td>1</td>\n",
              "      <td>0</td>\n",
              "      <td>0</td>\n",
              "      <td>FRA</td>\n",
              "      <td>40.30</td>\n",
              "      <td>37.0</td>\n",
              "      <td>77.30</td>\n",
              "    </tr>\n",
              "    <tr>\n",
              "      <th>1</th>\n",
              "      <td>WC_1617</td>\n",
              "      <td>Kaetlyn OSMOND</td>\n",
              "      <td>CAN</td>\n",
              "      <td>F</td>\n",
              "      <td>32.53</td>\n",
              "      <td>0</td>\n",
              "      <td>3</td>\n",
              "      <td>1</td>\n",
              "      <td>0</td>\n",
              "      <td>0</td>\n",
              "      <td>FRA</td>\n",
              "      <td>39.53</td>\n",
              "      <td>32.8</td>\n",
              "      <td>72.33</td>\n",
              "    </tr>\n",
              "    <tr>\n",
              "      <th>2</th>\n",
              "      <td>WC_1617</td>\n",
              "      <td>Gabrielle DALEMAN</td>\n",
              "      <td>CAN</td>\n",
              "      <td>F</td>\n",
              "      <td>31.83</td>\n",
              "      <td>0</td>\n",
              "      <td>3</td>\n",
              "      <td>1</td>\n",
              "      <td>0</td>\n",
              "      <td>0</td>\n",
              "      <td>FRA</td>\n",
              "      <td>38.33</td>\n",
              "      <td>32.2</td>\n",
              "      <td>70.53</td>\n",
              "    </tr>\n",
              "    <tr>\n",
              "      <th>3</th>\n",
              "      <td>WC_1617</td>\n",
              "      <td>Anna POGORILAYA</td>\n",
              "      <td>RUS</td>\n",
              "      <td>F</td>\n",
              "      <td>32.84</td>\n",
              "      <td>0</td>\n",
              "      <td>3</td>\n",
              "      <td>1</td>\n",
              "      <td>0</td>\n",
              "      <td>0</td>\n",
              "      <td>FRA</td>\n",
              "      <td>36.24</td>\n",
              "      <td>33.8</td>\n",
              "      <td>70.04</td>\n",
              "    </tr>\n",
              "    <tr>\n",
              "      <th>4</th>\n",
              "      <td>WC_1617</td>\n",
              "      <td>Karen CHEN</td>\n",
              "      <td>USA</td>\n",
              "      <td>F</td>\n",
              "      <td>32.24</td>\n",
              "      <td>0</td>\n",
              "      <td>3</td>\n",
              "      <td>1</td>\n",
              "      <td>0</td>\n",
              "      <td>0</td>\n",
              "      <td>FRA</td>\n",
              "      <td>38.84</td>\n",
              "      <td>30.4</td>\n",
              "      <td>69.24</td>\n",
              "    </tr>\n",
              "    <tr>\n",
              "      <th>...</th>\n",
              "      <td>...</td>\n",
              "      <td>...</td>\n",
              "      <td>...</td>\n",
              "      <td>...</td>\n",
              "      <td>...</td>\n",
              "      <td>...</td>\n",
              "      <td>...</td>\n",
              "      <td>...</td>\n",
              "      <td>...</td>\n",
              "      <td>...</td>\n",
              "      <td>...</td>\n",
              "      <td>...</td>\n",
              "      <td>...</td>\n",
              "      <td>...</td>\n",
              "    </tr>\n",
              "    <tr>\n",
              "      <th>22696</th>\n",
              "      <td>GPCAN_1920</td>\n",
              "      <td>Roman SADOVSKY</td>\n",
              "      <td>CAN</td>\n",
              "      <td>M</td>\n",
              "      <td>69.47</td>\n",
              "      <td>2</td>\n",
              "      <td>6</td>\n",
              "      <td>0</td>\n",
              "      <td>4</td>\n",
              "      <td>0</td>\n",
              "      <td>LAT</td>\n",
              "      <td>64.90</td>\n",
              "      <td>78.5</td>\n",
              "      <td>143.40</td>\n",
              "    </tr>\n",
              "    <tr>\n",
              "      <th>22697</th>\n",
              "      <td>GPCAN_1920</td>\n",
              "      <td>Brendan KERRY</td>\n",
              "      <td>AUS</td>\n",
              "      <td>M</td>\n",
              "      <td>63.95</td>\n",
              "      <td>1</td>\n",
              "      <td>5</td>\n",
              "      <td>3</td>\n",
              "      <td>0</td>\n",
              "      <td>0</td>\n",
              "      <td>LAT</td>\n",
              "      <td>68.57</td>\n",
              "      <td>71.5</td>\n",
              "      <td>140.07</td>\n",
              "    </tr>\n",
              "    <tr>\n",
              "      <th>22698</th>\n",
              "      <td>GPCAN_1920</td>\n",
              "      <td>Julian Zhi Jie YEE</td>\n",
              "      <td>MAS</td>\n",
              "      <td>M</td>\n",
              "      <td>57.63</td>\n",
              "      <td>0</td>\n",
              "      <td>6</td>\n",
              "      <td>4</td>\n",
              "      <td>1</td>\n",
              "      <td>0</td>\n",
              "      <td>LAT</td>\n",
              "      <td>61.20</td>\n",
              "      <td>72.0</td>\n",
              "      <td>133.20</td>\n",
              "    </tr>\n",
              "    <tr>\n",
              "      <th>22699</th>\n",
              "      <td>GPCAN_1920</td>\n",
              "      <td>Paul FENTZ</td>\n",
              "      <td>GER</td>\n",
              "      <td>M</td>\n",
              "      <td>62.05</td>\n",
              "      <td>0</td>\n",
              "      <td>7</td>\n",
              "      <td>3</td>\n",
              "      <td>1</td>\n",
              "      <td>0</td>\n",
              "      <td>LAT</td>\n",
              "      <td>63.05</td>\n",
              "      <td>72.0</td>\n",
              "      <td>135.05</td>\n",
              "    </tr>\n",
              "    <tr>\n",
              "      <th>22700</th>\n",
              "      <td>GPCAN_1920</td>\n",
              "      <td>Andrei LAZUKIN</td>\n",
              "      <td>RUS</td>\n",
              "      <td>M</td>\n",
              "      <td>53.41</td>\n",
              "      <td>1</td>\n",
              "      <td>4</td>\n",
              "      <td>4</td>\n",
              "      <td>1</td>\n",
              "      <td>0</td>\n",
              "      <td>LAT</td>\n",
              "      <td>57.12</td>\n",
              "      <td>77.0</td>\n",
              "      <td>134.12</td>\n",
              "    </tr>\n",
              "  </tbody>\n",
              "</table>\n",
              "<p>22367 rows × 14 columns</p>\n",
              "</div>"
            ],
            "text/plain": [
              "          comp_id     skater_fullname  ... judge_pcs judge_total\n",
              "0         WC_1617   Evgenia MEDVEDEVA  ...      37.0       77.30\n",
              "1         WC_1617      Kaetlyn OSMOND  ...      32.8       72.33\n",
              "2         WC_1617   Gabrielle DALEMAN  ...      32.2       70.53\n",
              "3         WC_1617     Anna POGORILAYA  ...      33.8       70.04\n",
              "4         WC_1617          Karen CHEN  ...      30.4       69.24\n",
              "...           ...                 ...  ...       ...         ...\n",
              "22696  GPCAN_1920      Roman SADOVSKY  ...      78.5      143.40\n",
              "22697  GPCAN_1920       Brendan KERRY  ...      71.5      140.07\n",
              "22698  GPCAN_1920  Julian Zhi Jie YEE  ...      72.0      133.20\n",
              "22699  GPCAN_1920          Paul FENTZ  ...      72.0      135.05\n",
              "22700  GPCAN_1920      Andrei LAZUKIN  ...      77.0      134.12\n",
              "\n",
              "[22367 rows x 14 columns]"
            ]
          },
          "metadata": {
            "tags": []
          },
          "execution_count": 4
        }
      ]
    },
    {
      "cell_type": "markdown",
      "metadata": {
        "id": "kHIgVSzsoNV-",
        "colab_type": "text"
      },
      "source": [
        "# Predicting Total Score by Judge\n",
        "\n",
        "The primary features I will be using in this model includes the skater's name, skater's nationality, judge's nationality, skater's performance BV, and their gender.\n",
        "\n",
        "Other features that will be considered include the number of quad, triple, and double jumps performed, the number of jump errors, and the number of spin errors. I will be exploring combinations of these other features with primary features to see which set creates the best model."
      ]
    },
    {
      "cell_type": "code",
      "metadata": {
        "id": "MuCbCiadJGP4",
        "colab_type": "code",
        "colab": {}
      },
      "source": [
        "features = list(df_skaters_ml.columns.drop([\"comp_id\", \"judge_total\", \"judge_tes\", \"judge_pcs\"]))\n",
        "cat_vars = ['skater_fullname', 'skater_nat', 'gender', 'judge_nat']\n",
        "quant_vars = [f for f in features if f not in cat_vars]\n",
        "base_features = cat_vars + ['bv']\n",
        "misc_features = quant_vars.copy()\n",
        "misc_features.remove('bv')\n",
        "\n",
        "y_train = df_skaters_ml[\"judge_total\"]"
      ],
      "execution_count": 0,
      "outputs": []
    },
    {
      "cell_type": "markdown",
      "metadata": {
        "id": "P60U0Pphyhp6",
        "colab_type": "text"
      },
      "source": [
        "## K-Nearest Neighbors"
      ]
    },
    {
      "cell_type": "markdown",
      "metadata": {
        "id": "NK13NOJfYFsw",
        "colab_type": "text"
      },
      "source": [
        "### Finding the best k for K-Nearest Neighbors"
      ]
    },
    {
      "cell_type": "code",
      "metadata": {
        "id": "G0l_Fdr5yl4l",
        "colab_type": "code",
        "outputId": "fe88852f-e9c8-4673-ffa2-191f9ab0146b",
        "colab": {
          "base_uri": "https://localhost:8080/",
          "height": 510
        }
      },
      "source": [
        "X_train = df_skaters_ml[features]\n",
        "\n",
        "# Column transformer for specified features\n",
        "ct = make_column_transformer(\n",
        "    (StandardScaler(), quant_vars),\n",
        "    (OneHotEncoder(handle_unknown=\"ignore\"), cat_vars),\n",
        "    remainder=\"passthrough\"\n",
        ")\n",
        "\n",
        "pipeline = make_pipeline(\n",
        "    ct,\n",
        "    KNeighborsRegressor(n_neighbors=20, metric=\"euclidean\")\n",
        ")\n",
        "\n",
        "clf = GridSearchCV(pipeline,\n",
        "                   param_grid={\n",
        "                       \"kneighborsregressor__n_neighbors\": range(1, 20)\n",
        "                       },\n",
        "                   scoring=\"neg_mean_squared_error\",\n",
        "                   cv=10)\n",
        "clf.fit(X_train, y_train)\n",
        "clf.best_estimator_"
      ],
      "execution_count": 6,
      "outputs": [
        {
          "output_type": "execute_result",
          "data": {
            "text/plain": [
              "Pipeline(memory=None,\n",
              "         steps=[('columntransformer',\n",
              "                 ColumnTransformer(n_jobs=None, remainder='passthrough',\n",
              "                                   sparse_threshold=0.3,\n",
              "                                   transformer_weights=None,\n",
              "                                   transformers=[('standardscaler',\n",
              "                                                  StandardScaler(copy=True,\n",
              "                                                                 with_mean=True,\n",
              "                                                                 with_std=True),\n",
              "                                                  ['bv', 'num_quads',\n",
              "                                                   'num_triples', 'num_doubles',\n",
              "                                                   'num_jump_errors',\n",
              "                                                   'num_spin_errors']),\n",
              "                                                 ('onehotencoder',\n",
              "                                                  OneHotEncoder(categories='auto',\n",
              "                                                                drop=None,\n",
              "                                                                dtype=<class 'numpy.float64'>,\n",
              "                                                                handle_unknown='ignore',\n",
              "                                                                sparse=True),\n",
              "                                                  ['skater_fullname',\n",
              "                                                   'skater_nat', 'gender',\n",
              "                                                   'judge_nat'])],\n",
              "                                   verbose=False)),\n",
              "                ('kneighborsregressor',\n",
              "                 KNeighborsRegressor(algorithm='auto', leaf_size=30,\n",
              "                                     metric='euclidean', metric_params=None,\n",
              "                                     n_jobs=None, n_neighbors=8, p=2,\n",
              "                                     weights='uniform'))],\n",
              "         verbose=False)"
            ]
          },
          "metadata": {
            "tags": []
          },
          "execution_count": 6
        }
      ]
    },
    {
      "cell_type": "code",
      "metadata": {
        "id": "9tGGr87O99oE",
        "colab_type": "code",
        "outputId": "2f78eb12-ace7-44a2-8f6c-efe6891f2b48",
        "colab": {
          "base_uri": "https://localhost:8080/",
          "height": 643
        }
      },
      "source": [
        "results = clf.cv_results_\n",
        "\n",
        "# Get a series containing the RMSE for each k\n",
        "cv_rmse = pd.Series(\n",
        "            np.sqrt(-results[\"mean_test_score\"]),\n",
        "            index=results[\"param_kneighborsregressor__n_neighbors\"]\n",
        "            )\n",
        "\n",
        "cv_rmse.plot.line(legend=True, label=\"Validation RMSE\", figsize=(18, 10), title=\"Validation RMSE vs K\")\n",
        "cv_rmse.sort_values().head(2)"
      ],
      "execution_count": 8,
      "outputs": [
        {
          "output_type": "execute_result",
          "data": {
            "text/plain": [
              "8    4.187033\n",
              "9    4.211005\n",
              "dtype: float64"
            ]
          },
          "metadata": {
            "tags": []
          },
          "execution_count": 8
        },
        {
          "output_type": "display_data",
          "data": {
            "image/png": "[encoded data removed]",
            "text/plain": [
              "<Figure size 1296x720 with 1 Axes>"
            ]
          },
          "metadata": {
            "tags": []
          }
        }
      ]
    },
    {
      "cell_type": "markdown",
      "metadata": {
        "id": "Y9FDlOYgzgIQ",
        "colab_type": "text"
      },
      "source": [
        "It appears that **k=8** yields the best validation RSME error. "
      ]
    },
    {
      "cell_type": "markdown",
      "metadata": {
        "id": "Z-fp-C7lWFXK",
        "colab_type": "text"
      },
      "source": [
        "### Exploring different features"
      ]
    },
    {
      "cell_type": "code",
      "metadata": {
        "id": "3Yp5rjW7Vylm",
        "colab_type": "code",
        "colab": {}
      },
      "source": [
        "misc_feat_combos = [[]]\n",
        "\n",
        "# Get all combinations of features\n",
        "for r in range(1, len(misc_features) + 1):\n",
        "  misc_feat_combos.extend(list(combinations(misc_features, r)))\n",
        "\n",
        "# Convert all into list of list of features\n",
        "for i in range(len(misc_feat_combos)):\n",
        "  misc_feat_combos[i] = list(misc_feat_combos[i])"
      ],
      "execution_count": 0,
      "outputs": []
    },
    {
      "cell_type": "code",
      "metadata": {
        "id": "He6Q3x6VWZf2",
        "colab_type": "code",
        "colab": {}
      },
      "source": [
        "def try_diff_features(model):\n",
        "  rmse_series = pd.Series()\n",
        "\n",
        "  for feat_combo in misc_feat_combos:\n",
        "    ct = make_column_transformer(\n",
        "        (StandardScaler(), ['bv'] + feat_combo),\n",
        "        (OneHotEncoder(handle_unknown=\"ignore\"), cat_vars),\n",
        "        remainder=\"passthrough\"\n",
        "    )\n",
        "\n",
        "    pipeline = make_pipeline(ct, model)\n",
        "    train_features = base_features + feat_combo\n",
        "    cv_errs = -cross_val_score(pipeline, \n",
        "                                X=df_skaters_ml[train_features],\n",
        "                                y=y_train,\n",
        "                                scoring=\"neg_mean_squared_error\", cv=10)\n",
        "    rmse = np.sqrt(cv_errs.mean())\n",
        "    rmse_series[str(feat_combo)] = rmse\n",
        "    \n",
        "  return rmse_series"
      ],
      "execution_count": 0,
      "outputs": []
    },
    {
      "cell_type": "code",
      "metadata": {
        "id": "-gFQ9xmvZYZO",
        "colab_type": "code",
        "outputId": "1bcd130c-cdbb-4793-c1b9-c14b5a1dd81e",
        "colab": {
          "base_uri": "https://localhost:8080/",
          "height": 578
        }
      },
      "source": [
        "knearest_rmse_misc = try_diff_features(KNeighborsRegressor(n_neighbors=8, metric=\"euclidean\"))\n",
        "knearest_rmse_misc.sort_values()"
      ],
      "execution_count": 11,
      "outputs": [
        {
          "output_type": "execute_result",
          "data": {
            "text/plain": [
              "['num_quads', 'num_triples', 'num_doubles', 'num_jump_errors', 'num_spin_errors']    4.187033\n",
              "['num_quads', 'num_triples', 'num_doubles', 'num_jump_errors']                       4.258439\n",
              "['num_triples', 'num_doubles', 'num_jump_errors', 'num_spin_errors']                 4.334700\n",
              "['num_triples', 'num_doubles', 'num_jump_errors']                                    4.435239\n",
              "['num_quads', 'num_doubles', 'num_jump_errors', 'num_spin_errors']                   4.534056\n",
              "['num_quads', 'num_doubles', 'num_jump_errors']                                      4.629450\n",
              "['num_quads', 'num_triples', 'num_jump_errors', 'num_spin_errors']                   4.629729\n",
              "['num_quads', 'num_triples', 'num_doubles', 'num_spin_errors']                       4.696675\n",
              "['num_doubles', 'num_jump_errors', 'num_spin_errors']                                4.735404\n",
              "['num_quads', 'num_triples', 'num_jump_errors']                                      4.815129\n",
              "['num_quads', 'num_triples', 'num_doubles']                                          4.845375\n",
              "['num_triples', 'num_jump_errors', 'num_spin_errors']                                4.868534\n",
              "['num_doubles', 'num_jump_errors']                                                   4.891192\n",
              "['num_triples', 'num_doubles', 'num_spin_errors']                                    4.919888\n",
              "['num_triples', 'num_jump_errors']                                                   5.122231\n",
              "['num_triples', 'num_doubles']                                                       5.124428\n",
              "['num_quads', 'num_doubles', 'num_spin_errors']                                      5.349874\n",
              "['num_quads', 'num_triples', 'num_spin_errors']                                      5.432311\n",
              "['num_quads', 'num_doubles']                                                         5.576087\n",
              "['num_doubles', 'num_spin_errors']                                                   5.700186\n",
              "['num_quads', 'num_triples']                                                         5.722791\n",
              "['num_triples', 'num_spin_errors']                                                   5.845164\n",
              "['num_doubles']                                                                      5.921433\n",
              "['num_quads', 'num_jump_errors', 'num_spin_errors']                                  5.981395\n",
              "['num_triples']                                                                      6.205292\n",
              "['num_jump_errors', 'num_spin_errors']                                               6.260958\n",
              "['num_quads', 'num_jump_errors']                                                     6.385243\n",
              "['num_jump_errors']                                                                  6.694399\n",
              "['num_quads', 'num_spin_errors']                                                     8.443601\n",
              "['num_spin_errors']                                                                  8.709563\n",
              "['num_quads']                                                                        8.972991\n",
              "[]                                                                                   9.229929\n",
              "dtype: float64"
            ]
          },
          "metadata": {
            "tags": []
          },
          "execution_count": 11
        }
      ]
    },
    {
      "cell_type": "markdown",
      "metadata": {
        "id": "jmXb0gwLz3Q0",
        "colab_type": "text"
      },
      "source": [
        "It looks like using all primary features and all other features together yielded the best results.\n",
        "\n",
        "The best Validation RMSE value for K-Nearest Neighbors is **4.187033**.\n",
        "\n",
        "Now onto keeping track of the model to be used later."
      ]
    },
    {
      "cell_type": "code",
      "metadata": {
        "id": "-pKAQGcIXavV",
        "colab_type": "code",
        "colab": {}
      },
      "source": [
        "# Keep track of model\n",
        "models = {\n",
        "    \"Model Name\" : [],\n",
        "    \"Validation RSME\" : [],\n",
        "    \"Test RSME\" : [],\n",
        "    \"Features\" : [],\n",
        "    \"Model\" : []\n",
        "}\n",
        "\n",
        "ct = make_column_transformer(\n",
        "    (StandardScaler(), quant_vars),\n",
        "    (OneHotEncoder(handle_unknown=\"ignore\"), cat_vars),\n",
        "    remainder=\"passthrough\"\n",
        ")\n",
        "\n",
        "best_knearest = make_pipeline(\n",
        "    ct,\n",
        "    KNeighborsRegressor(n_neighbors=8, metric=\"euclidean\")\n",
        ")\n",
        "\n",
        "models[\"Model Name\"].append(\"KNearestNeighbors\")\n",
        "models[\"Validation RSME\"].append(knearest_rmse_misc.min())\n",
        "models[\"Features\"].append(features)\n",
        "models[\"Model\"].append(best_knearest)"
      ],
      "execution_count": 0,
      "outputs": []
    },
    {
      "cell_type": "markdown",
      "metadata": {
        "id": "X3iLLOYgs3MN",
        "colab_type": "text"
      },
      "source": [
        "## Linear Regression\n",
        "\n"
      ]
    },
    {
      "cell_type": "markdown",
      "metadata": {
        "id": "DjP12FVvYrMC",
        "colab_type": "text"
      },
      "source": [
        "### Testing different scalers for quantitative values"
      ]
    },
    {
      "cell_type": "code",
      "metadata": {
        "id": "-i9tAeBdBjDb",
        "colab_type": "code",
        "outputId": "ae00b6ed-9df6-4dc1-97d2-13c6ce483fad",
        "colab": {
          "base_uri": "https://localhost:8080/",
          "height": 102
        }
      },
      "source": [
        "def get_ct_by_scaler(scaler):\n",
        "  return make_column_transformer(\n",
        "    (scaler, quant_vars),\n",
        "    (OneHotEncoder(handle_unknown=\"ignore\"), cat_vars),\n",
        "    remainder=\"passthrough\"\n",
        ")\n",
        "\n",
        "all_cts = {\n",
        "    \"StandardScaler\" : get_ct_by_scaler(StandardScaler()), \n",
        "    \"Normalizer\" : get_ct_by_scaler(Normalizer()), \n",
        "    \"MinMaxScaler\" : get_ct_by_scaler(MinMaxScaler()), \n",
        "    \"MaxAbsScaler\" : get_ct_by_scaler(MaxAbsScaler())\n",
        "    }\n",
        "\n",
        "linear_rmse = pd.Series()\n",
        "\n",
        "for key in all_cts.keys():\n",
        "  pipeline = make_pipeline(\n",
        "      all_cts[key],\n",
        "      LinearRegression()\n",
        "  )\n",
        "\n",
        "  cv_errs = -cross_val_score(pipeline, \n",
        "                            X=X_train,\n",
        "                            y=y_train,\n",
        "                            scoring=\"neg_mean_squared_error\", cv=10)\n",
        "  rmse = np.sqrt(cv_errs.mean())\n",
        "  linear_rmse[key] = rmse\n",
        "\n",
        "linear_rmse"
      ],
      "execution_count": 13,
      "outputs": [
        {
          "output_type": "execute_result",
          "data": {
            "text/plain": [
              "StandardScaler     6.891641\n",
              "Normalizer        17.888373\n",
              "MinMaxScaler       6.891641\n",
              "MaxAbsScaler       6.891641\n",
              "dtype: float64"
            ]
          },
          "metadata": {
            "tags": []
          },
          "execution_count": 13
        }
      ]
    },
    {
      "cell_type": "markdown",
      "metadata": {
        "id": "ocDG6yL50YtO",
        "colab_type": "text"
      },
      "source": [
        "It looks like only Normalizing the quantitative values had any real effect on the performance of the model. I will be using Standardization for the rest of my models."
      ]
    },
    {
      "cell_type": "markdown",
      "metadata": {
        "id": "OTaKAIKIdrjT",
        "colab_type": "text"
      },
      "source": [
        "### Exploring different features"
      ]
    },
    {
      "cell_type": "code",
      "metadata": {
        "id": "VXglI0QOJ9yA",
        "colab_type": "code",
        "outputId": "3d86e396-4934-450f-eb89-bad3ddb9695c",
        "colab": {
          "base_uri": "https://localhost:8080/",
          "height": 578
        }
      },
      "source": [
        "linear_rmse_misc = try_diff_features(LinearRegression())\n",
        "linear_rmse_misc.sort_values()"
      ],
      "execution_count": 14,
      "outputs": [
        {
          "output_type": "execute_result",
          "data": {
            "text/plain": [
              "['num_quads', 'num_triples', 'num_doubles', 'num_jump_errors', 'num_spin_errors']    6.891641\n",
              "['num_triples', 'num_doubles', 'num_jump_errors', 'num_spin_errors']                 6.891739\n",
              "['num_quads', 'num_triples', 'num_doubles', 'num_jump_errors']                       6.895256\n",
              "['num_triples', 'num_doubles', 'num_jump_errors']                                    6.895595\n",
              "['num_quads', 'num_triples', 'num_doubles', 'num_spin_errors']                       6.908156\n",
              "['num_quads', 'num_triples', 'num_doubles']                                          6.911791\n",
              "['num_triples', 'num_doubles', 'num_spin_errors']                                    6.913205\n",
              "['num_triples', 'num_doubles']                                                       6.915993\n",
              "['num_quads', 'num_doubles', 'num_jump_errors', 'num_spin_errors']                   6.949740\n",
              "['num_quads', 'num_doubles', 'num_spin_errors']                                      6.950414\n",
              "['num_quads', 'num_doubles', 'num_jump_errors']                                      6.956092\n",
              "['num_quads', 'num_doubles']                                                         6.957167\n",
              "['num_quads', 'num_triples', 'num_jump_errors', 'num_spin_errors']                   7.130883\n",
              "['num_doubles', 'num_spin_errors']                                                   7.134651\n",
              "['num_doubles', 'num_jump_errors', 'num_spin_errors']                                7.134855\n",
              "['num_doubles']                                                                      7.139450\n",
              "['num_doubles', 'num_jump_errors']                                                   7.139781\n",
              "['num_quads', 'num_triples', 'num_jump_errors']                                      7.142763\n",
              "['num_quads', 'num_jump_errors', 'num_spin_errors']                                  7.148254\n",
              "['num_quads', 'num_jump_errors']                                                     7.159693\n",
              "['num_quads', 'num_triples', 'num_spin_errors']                                      7.162054\n",
              "['num_quads', 'num_spin_errors']                                                     7.165590\n",
              "['num_quads', 'num_triples']                                                         7.176757\n",
              "['num_quads']                                                                        7.179583\n",
              "['num_triples', 'num_spin_errors']                                                   7.416242\n",
              "['num_triples', 'num_jump_errors', 'num_spin_errors']                                7.416715\n",
              "['num_triples']                                                                      7.426990\n",
              "['num_triples', 'num_jump_errors']                                                   7.427562\n",
              "['num_jump_errors', 'num_spin_errors']                                               7.627704\n",
              "['num_jump_errors']                                                                  7.639927\n",
              "['num_spin_errors']                                                                  7.640821\n",
              "[]                                                                                   7.655351\n",
              "dtype: float64"
            ]
          },
          "metadata": {
            "tags": []
          },
          "execution_count": 14
        }
      ]
    },
    {
      "cell_type": "markdown",
      "metadata": {
        "id": "t-E4tJKa0qdg",
        "colab_type": "text"
      },
      "source": [
        "Again, it looks like using all primary and other features together yielded the best results.\n",
        "\n",
        "The best Validation RMSE value for Linear Regressor is **6.891641**, more than 50% increase from K-Neighbors Regressor's RMSE.\n",
        "\n",
        "Now onto recording this model to be used later."
      ]
    },
    {
      "cell_type": "code",
      "metadata": {
        "id": "olZMYGnLO-AB",
        "colab_type": "code",
        "colab": {}
      },
      "source": [
        "best_linear = make_pipeline(\n",
        "      get_ct_by_scaler(StandardScaler()),\n",
        "      LinearRegression()\n",
        ")\n",
        "\n",
        "models[\"Model Name\"].append(\"LinearRegression\")\n",
        "models[\"Validation RSME\"].append(linear_rmse_misc.min())\n",
        "models[\"Features\"].append(features)\n",
        "models[\"Model\"].append(best_linear)"
      ],
      "execution_count": 0,
      "outputs": []
    },
    {
      "cell_type": "markdown",
      "metadata": {
        "id": "ce943r5lliSQ",
        "colab_type": "text"
      },
      "source": [
        "## Ensemble Models\n",
        "\n",
        "With the K-Nearest and Linear Regression models found, let's see if we can improve upon them by ensembling them together."
      ]
    },
    {
      "cell_type": "markdown",
      "metadata": {
        "id": "o27mW1nId0gf",
        "colab_type": "text"
      },
      "source": [
        "### Voting Ensemble Model"
      ]
    },
    {
      "cell_type": "code",
      "metadata": {
        "id": "jt1tNCZ2kH-m",
        "colab_type": "code",
        "colab": {}
      },
      "source": [
        "ensemble_model_vote = VotingRegressor([\n",
        "    (\"knn\", models[\"Model\"][0]),\n",
        "    (\"linear\", models[\"Model\"][1])\n",
        "])\n",
        "\n",
        "cv_errs = -cross_val_score(ensemble_model_vote, \n",
        "                            X=X_train,\n",
        "                            y=y_train,\n",
        "                            scoring=\"neg_mean_squared_error\", cv=10)\n",
        "ensemble_vote_rmse = np.sqrt(cv_errs.mean())\n",
        "\n",
        "models[\"Model Name\"].append(\"EnsembleModel_Voting\")\n",
        "models[\"Validation RSME\"].append(ensemble_vote_rmse)\n",
        "models[\"Features\"].append(features)\n",
        "models[\"Model\"].append(ensemble_model_vote)"
      ],
      "execution_count": 0,
      "outputs": []
    },
    {
      "cell_type": "markdown",
      "metadata": {
        "id": "8eIf120jd4x2",
        "colab_type": "text"
      },
      "source": [
        "### Stacking Ensemble Model"
      ]
    },
    {
      "cell_type": "code",
      "metadata": {
        "id": "Bu81nUt9luub",
        "colab_type": "code",
        "colab": {}
      },
      "source": [
        "ensemble_model_stack = StackingRegressor([\n",
        "    (\"linear\", models[\"Model\"][1]), \n",
        "    (\"knn\", models[\"Model\"][0])],\n",
        "    final_estimator=LinearRegression()\n",
        ")\n",
        "\n",
        "cv_errs = -cross_val_score(ensemble_model_stack, \n",
        "                            X=X_train,\n",
        "                            y=y_train,\n",
        "                            scoring=\"neg_mean_squared_error\", cv=10)\n",
        "ensemble_stack_rmse = np.sqrt(cv_errs.mean())\n",
        "\n",
        "models[\"Model Name\"].append(\"EnsembleModel_Stacking\")\n",
        "models[\"Validation RSME\"].append(ensemble_stack_rmse)\n",
        "models[\"Features\"].append(features)\n",
        "models[\"Model\"].append(ensemble_model_stack)"
      ],
      "execution_count": 0,
      "outputs": []
    },
    {
      "cell_type": "markdown",
      "metadata": {
        "id": "9dtbS3ptd-VG",
        "colab_type": "text"
      },
      "source": [
        "## Model prediction results\n",
        "\n",
        "Now that we have all models, let's see how well they actually predict the test data."
      ]
    },
    {
      "cell_type": "code",
      "metadata": {
        "id": "GwT-Uim5I7_c",
        "colab_type": "code",
        "colab": {}
      },
      "source": [
        "y_test_total = df_skaters_test[\"judge_total\"]\n",
        "\n",
        "for i in range(0, len(models[\"Model Name\"])):\n",
        "  m_features = models[\"Features\"][i]\n",
        "  X_train = df_skaters_ml[m_features]\n",
        "  X_test = df_skaters_test[m_features]\n",
        "  model = models[\"Model\"][i]\n",
        "  model.fit(X=X_train, y=y_train)\n",
        "  y_test_ = model.predict(X_test)\n",
        "  models[\"Test RSME\"].append(np.sqrt(mean_squared_error(y_test_total, y_test_)))"
      ],
      "execution_count": 0,
      "outputs": []
    },
    {
      "cell_type": "code",
      "metadata": {
        "id": "Lkibc_m8tBz-",
        "colab_type": "code",
        "outputId": "6233d921-c7e6-4705-8fcf-55a7c79428ee",
        "colab": {
          "base_uri": "https://localhost:8080/",
          "height": 173
        }
      },
      "source": [
        "used_models = models[\"Model\"]\n",
        "del models[\"Model\"], models[\"Features\"]\n",
        "pd.DataFrame(models)"
      ],
      "execution_count": 19,
      "outputs": [
        {
          "output_type": "execute_result",
          "data": {
            "text/html": [
              "<div>\n",
              "<style scoped>\n",
              "    .dataframe tbody tr th:only-of-type {\n",
              "        vertical-align: middle;\n",
              "    }\n",
              "\n",
              "    .dataframe tbody tr th {\n",
              "        vertical-align: top;\n",
              "    }\n",
              "\n",
              "    .dataframe thead th {\n",
              "        text-align: right;\n",
              "    }\n",
              "</style>\n",
              "<table border=\"1\" class=\"dataframe\">\n",
              "  <thead>\n",
              "    <tr style=\"text-align: right;\">\n",
              "      <th></th>\n",
              "      <th>Model Name</th>\n",
              "      <th>Validation RSME</th>\n",
              "      <th>Test RSME</th>\n",
              "    </tr>\n",
              "  </thead>\n",
              "  <tbody>\n",
              "    <tr>\n",
              "      <th>0</th>\n",
              "      <td>KNearestNeighbors</td>\n",
              "      <td>4.187033</td>\n",
              "      <td>9.997143</td>\n",
              "    </tr>\n",
              "    <tr>\n",
              "      <th>1</th>\n",
              "      <td>LinearRegression</td>\n",
              "      <td>6.891641</td>\n",
              "      <td>9.670533</td>\n",
              "    </tr>\n",
              "    <tr>\n",
              "      <th>2</th>\n",
              "      <td>EnsembleModel_Voting</td>\n",
              "      <td>4.872629</td>\n",
              "      <td>8.603258</td>\n",
              "    </tr>\n",
              "    <tr>\n",
              "      <th>3</th>\n",
              "      <td>EnsembleModel_Stacking</td>\n",
              "      <td>4.172718</td>\n",
              "      <td>9.691657</td>\n",
              "    </tr>\n",
              "  </tbody>\n",
              "</table>\n",
              "</div>"
            ],
            "text/plain": [
              "               Model Name  Validation RSME  Test RSME\n",
              "0       KNearestNeighbors         4.187033   9.997143\n",
              "1        LinearRegression         6.891641   9.670533\n",
              "2    EnsembleModel_Voting         4.872629   8.603258\n",
              "3  EnsembleModel_Stacking         4.172718   9.691657"
            ]
          },
          "metadata": {
            "tags": []
          },
          "execution_count": 19
        }
      ]
    },
    {
      "cell_type": "markdown",
      "metadata": {
        "id": "_wsYPG1F1xr-",
        "colab_type": "text"
      },
      "source": [
        "It looks like that while the Stacking Ensemble Model had the best estimated test (validation) RSME, the Voting Ensemble Model ended up being the clear best performer for predicting the skaters' scores in the test data set, with the best test RSME of **8.603258**.\n",
        "\n",
        "One interesting note is that while the LinearRegression model was the odd one out in terms of estimated test error, it actually ended up performing second best behind the Voting Ensemble Model.\n",
        "\n",
        "Is this a decent RSME? I would say it is not terrible overall. The differences between total scores of skaters can vary between a tenth of a point to an over 20 point difference. Even between judges, it's not uncommon for two judges to have an over 10 point difference in their total scores for the same skater performance. "
      ]
    },
    {
      "cell_type": "markdown",
      "metadata": {
        "id": "czswCTNnn6vR",
        "colab_type": "text"
      },
      "source": [
        "# Predicting TES and PCS instead of total score\n",
        "\n",
        "This is just mostly out of curiosity, since I wasn't sure what would happen, but what if instead of predicting the total score, I predicted the TES scores and PCS scores, summed them together, then used that sum as the predicted value?\n",
        "\n",
        "Using the same models found, I will predict TES and PCS individually, and see if they any difference over predicting the total score."
      ]
    },
    {
      "cell_type": "markdown",
      "metadata": {
        "id": "fiIM4CoheK5e",
        "colab_type": "text"
      },
      "source": [
        "## Using models to predict TES"
      ]
    },
    {
      "cell_type": "code",
      "metadata": {
        "id": "VtjgcUBZq0hP",
        "colab_type": "code",
        "colab": {}
      },
      "source": [
        "y_test_tes = df_skaters_test[\"judge_tes\"]\n",
        "y_train_tes = df_skaters_ml[\"judge_tes\"]\n",
        "tes_predictions = []\n",
        "\n",
        "tes_models = {\n",
        "    \"Model Name\" : models[\"Model Name\"],\n",
        "    \"Validation RSME\" : [],\n",
        "    \"Test RSME\" : [],\n",
        "    \"Model\" : used_models\n",
        "}\n",
        "\n",
        "for i in range(0, len(tes_models[\"Model Name\"])):\n",
        "  X_train = df_skaters_ml[features]\n",
        "  X_test = df_skaters_test[features]\n",
        "  model = tes_models[\"Model\"][i]\n",
        "\n",
        "  # Get Validation Error\n",
        "  cv_errs = -cross_val_score(model, \n",
        "                              X=X_train,\n",
        "                              y=y_train_tes,\n",
        "                              scoring=\"neg_mean_squared_error\", cv=10)\n",
        "  tes_models[\"Validation RSME\"].append(np.sqrt(cv_errs.mean()))\n",
        "  \n",
        "  # Get Test Error\n",
        "  model.fit(X=X_train, y=y_train_tes)\n",
        "  y_test_ = model.predict(X_test)\n",
        "  tes_predictions.append(y_test_)\n",
        "  tes_models[\"Test RSME\"].append(np.sqrt(mean_squared_error(y_test_tes, y_test_)))"
      ],
      "execution_count": 0,
      "outputs": []
    },
    {
      "cell_type": "code",
      "metadata": {
        "id": "qI6A9V96v38y",
        "colab_type": "code",
        "colab": {
          "base_uri": "https://localhost:8080/",
          "height": 173
        },
        "outputId": "a7e68531-a044-4778-ba24-9cd49300d89c"
      },
      "source": [
        "del tes_models[\"Model\"]\n",
        "pd.DataFrame(tes_models)"
      ],
      "execution_count": 21,
      "outputs": [
        {
          "output_type": "execute_result",
          "data": {
            "text/html": [
              "<div>\n",
              "<style scoped>\n",
              "    .dataframe tbody tr th:only-of-type {\n",
              "        vertical-align: middle;\n",
              "    }\n",
              "\n",
              "    .dataframe tbody tr th {\n",
              "        vertical-align: top;\n",
              "    }\n",
              "\n",
              "    .dataframe thead th {\n",
              "        text-align: right;\n",
              "    }\n",
              "</style>\n",
              "<table border=\"1\" class=\"dataframe\">\n",
              "  <thead>\n",
              "    <tr style=\"text-align: right;\">\n",
              "      <th></th>\n",
              "      <th>Model Name</th>\n",
              "      <th>Validation RSME</th>\n",
              "      <th>Test RSME</th>\n",
              "    </tr>\n",
              "  </thead>\n",
              "  <tbody>\n",
              "    <tr>\n",
              "      <th>0</th>\n",
              "      <td>KNearestNeighbors</td>\n",
              "      <td>2.380917</td>\n",
              "      <td>6.990276</td>\n",
              "    </tr>\n",
              "    <tr>\n",
              "      <th>1</th>\n",
              "      <td>LinearRegression</td>\n",
              "      <td>3.458204</td>\n",
              "      <td>5.692886</td>\n",
              "    </tr>\n",
              "    <tr>\n",
              "      <th>2</th>\n",
              "      <td>EnsembleModel_Voting</td>\n",
              "      <td>2.593024</td>\n",
              "      <td>5.841868</td>\n",
              "    </tr>\n",
              "    <tr>\n",
              "      <th>3</th>\n",
              "      <td>EnsembleModel_Stacking</td>\n",
              "      <td>2.357170</td>\n",
              "      <td>6.680710</td>\n",
              "    </tr>\n",
              "  </tbody>\n",
              "</table>\n",
              "</div>"
            ],
            "text/plain": [
              "               Model Name  Validation RSME  Test RSME\n",
              "0       KNearestNeighbors         2.380917   6.990276\n",
              "1        LinearRegression         3.458204   5.692886\n",
              "2    EnsembleModel_Voting         2.593024   5.841868\n",
              "3  EnsembleModel_Stacking         2.357170   6.680710"
            ]
          },
          "metadata": {
            "tags": []
          },
          "execution_count": 21
        }
      ]
    },
    {
      "cell_type": "markdown",
      "metadata": {
        "id": "MtMbpQLReUBX",
        "colab_type": "text"
      },
      "source": [
        "## Using models to predict PCS"
      ]
    },
    {
      "cell_type": "code",
      "metadata": {
        "id": "kaZdEcU-u5gV",
        "colab_type": "code",
        "colab": {}
      },
      "source": [
        "y_test_pcs = df_skaters_test[\"judge_pcs\"]\n",
        "y_train_pcs = df_skaters_ml[\"judge_pcs\"]\n",
        "pcs_predictions = []\n",
        "\n",
        "pcs_models = {\n",
        "    \"Model Name\" : models[\"Model Name\"],\n",
        "    \"Validation RSME\" : [],\n",
        "    \"Test RSME\" : [],\n",
        "    \"Model\" : used_models\n",
        "}\n",
        "\n",
        "for i in range(0, len(pcs_models[\"Model Name\"])):\n",
        "  X_train = df_skaters_ml[features]\n",
        "  X_test = df_skaters_test[features]\n",
        "  model = pcs_models[\"Model\"][i]\n",
        "\n",
        "  # Get Validation Error\n",
        "  cv_errs = -cross_val_score(model, \n",
        "                              X=X_train,\n",
        "                              y=y_train_pcs,\n",
        "                              scoring=\"neg_mean_squared_error\", cv=10)\n",
        "  pcs_models[\"Validation RSME\"].append(np.sqrt(cv_errs.mean()))\n",
        "  \n",
        "  # Get Test Error\n",
        "  model.fit(X=X_train, y=y_train_pcs)\n",
        "  y_test_ = model.predict(X_test)\n",
        "  pcs_predictions.append(y_test_)\n",
        "  pcs_models[\"Test RSME\"].append(np.sqrt(mean_squared_error(y_test_pcs, y_test_)))"
      ],
      "execution_count": 0,
      "outputs": []
    },
    {
      "cell_type": "code",
      "metadata": {
        "id": "Kz50SM-Tv77f",
        "colab_type": "code",
        "colab": {
          "base_uri": "https://localhost:8080/",
          "height": 173
        },
        "outputId": "675901c4-f0ab-4151-8eb5-e6ee934bc0b0"
      },
      "source": [
        "del pcs_models[\"Model\"]\n",
        "pd.DataFrame(pcs_models)"
      ],
      "execution_count": 23,
      "outputs": [
        {
          "output_type": "execute_result",
          "data": {
            "text/html": [
              "<div>\n",
              "<style scoped>\n",
              "    .dataframe tbody tr th:only-of-type {\n",
              "        vertical-align: middle;\n",
              "    }\n",
              "\n",
              "    .dataframe tbody tr th {\n",
              "        vertical-align: top;\n",
              "    }\n",
              "\n",
              "    .dataframe thead th {\n",
              "        text-align: right;\n",
              "    }\n",
              "</style>\n",
              "<table border=\"1\" class=\"dataframe\">\n",
              "  <thead>\n",
              "    <tr style=\"text-align: right;\">\n",
              "      <th></th>\n",
              "      <th>Model Name</th>\n",
              "      <th>Validation RSME</th>\n",
              "      <th>Test RSME</th>\n",
              "    </tr>\n",
              "  </thead>\n",
              "  <tbody>\n",
              "    <tr>\n",
              "      <th>0</th>\n",
              "      <td>KNearestNeighbors</td>\n",
              "      <td>2.683124</td>\n",
              "      <td>3.976231</td>\n",
              "    </tr>\n",
              "    <tr>\n",
              "      <th>1</th>\n",
              "      <td>LinearRegression</td>\n",
              "      <td>4.992629</td>\n",
              "      <td>5.424526</td>\n",
              "    </tr>\n",
              "    <tr>\n",
              "      <th>2</th>\n",
              "      <td>EnsembleModel_Voting</td>\n",
              "      <td>3.370140</td>\n",
              "      <td>4.054593</td>\n",
              "    </tr>\n",
              "    <tr>\n",
              "      <th>3</th>\n",
              "      <td>EnsembleModel_Stacking</td>\n",
              "      <td>2.682848</td>\n",
              "      <td>3.969759</td>\n",
              "    </tr>\n",
              "  </tbody>\n",
              "</table>\n",
              "</div>"
            ],
            "text/plain": [
              "               Model Name  Validation RSME  Test RSME\n",
              "0       KNearestNeighbors         2.683124   3.976231\n",
              "1        LinearRegression         4.992629   5.424526\n",
              "2    EnsembleModel_Voting         3.370140   4.054593\n",
              "3  EnsembleModel_Stacking         2.682848   3.969759"
            ]
          },
          "metadata": {
            "tags": []
          },
          "execution_count": 23
        }
      ]
    },
    {
      "cell_type": "markdown",
      "metadata": {
        "id": "ZRrZWpjFeZ1K",
        "colab_type": "text"
      },
      "source": [
        "## Combined prediction results"
      ]
    },
    {
      "cell_type": "code",
      "metadata": {
        "id": "efAfC5CUuP4c",
        "colab_type": "code",
        "colab": {
          "base_uri": "https://localhost:8080/",
          "height": 173
        },
        "outputId": "11621591-e45c-412d-b3d7-223ad6742f46"
      },
      "source": [
        "total_pred_rmse = []\n",
        "\n",
        "for i in range(0, len(tes_predictions)):\n",
        "  total_pred = tes_predictions[i] + pcs_predictions[i]\n",
        "  total_pred_rmse.append(np.sqrt(mean_squared_error(y_test_total, total_pred)))\n",
        "\n",
        "pd.DataFrame({\"Model Name\" : models[\"Model Name\"], \"Test RSME\" : total_pred_rmse})"
      ],
      "execution_count": 24,
      "outputs": [
        {
          "output_type": "execute_result",
          "data": {
            "text/html": [
              "<div>\n",
              "<style scoped>\n",
              "    .dataframe tbody tr th:only-of-type {\n",
              "        vertical-align: middle;\n",
              "    }\n",
              "\n",
              "    .dataframe tbody tr th {\n",
              "        vertical-align: top;\n",
              "    }\n",
              "\n",
              "    .dataframe thead th {\n",
              "        text-align: right;\n",
              "    }\n",
              "</style>\n",
              "<table border=\"1\" class=\"dataframe\">\n",
              "  <thead>\n",
              "    <tr style=\"text-align: right;\">\n",
              "      <th></th>\n",
              "      <th>Model Name</th>\n",
              "      <th>Test RSME</th>\n",
              "    </tr>\n",
              "  </thead>\n",
              "  <tbody>\n",
              "    <tr>\n",
              "      <th>0</th>\n",
              "      <td>KNearestNeighbors</td>\n",
              "      <td>9.997143</td>\n",
              "    </tr>\n",
              "    <tr>\n",
              "      <th>1</th>\n",
              "      <td>LinearRegression</td>\n",
              "      <td>9.670532</td>\n",
              "    </tr>\n",
              "    <tr>\n",
              "      <th>2</th>\n",
              "      <td>EnsembleModel_Voting</td>\n",
              "      <td>8.603257</td>\n",
              "    </tr>\n",
              "    <tr>\n",
              "      <th>3</th>\n",
              "      <td>EnsembleModel_Stacking</td>\n",
              "      <td>9.705856</td>\n",
              "    </tr>\n",
              "  </tbody>\n",
              "</table>\n",
              "</div>"
            ],
            "text/plain": [
              "               Model Name  Test RSME\n",
              "0       KNearestNeighbors   9.997143\n",
              "1        LinearRegression   9.670532\n",
              "2    EnsembleModel_Voting   8.603257\n",
              "3  EnsembleModel_Stacking   9.705856"
            ]
          },
          "metadata": {
            "tags": []
          },
          "execution_count": 24
        }
      ]
    },
    {
      "cell_type": "markdown",
      "metadata": {
        "id": "q-qum_2N4oHx",
        "colab_type": "text"
      },
      "source": [
        "Turns out the Test RSME's using this combined method are almost exactly the same as the Test RSME's found earlier, with a very slight difference for the Stackin Ensemble Method. That's good to know!"
      ]
    }
  ]
}